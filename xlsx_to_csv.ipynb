{
  "nbformat": 4,
  "nbformat_minor": 0,
  "metadata": {
    "colab": {
      "provenance": [],
      "authorship_tag": "ABX9TyOGzaXUWI5DeQwHTaYOQess",
      "include_colab_link": true
    },
    "kernelspec": {
      "name": "python3",
      "display_name": "Python 3"
    },
    "language_info": {
      "name": "python"
    }
  },
  "cells": [
    {
      "cell_type": "markdown",
      "metadata": {
        "id": "view-in-github",
        "colab_type": "text"
      },
      "source": [
        "<a href=\"https://colab.research.google.com/github/carbonteamhb/others/blob/main/xlsx_to_csv.ipynb\" target=\"_parent\"><img src=\"https://colab.research.google.com/assets/colab-badge.svg\" alt=\"Open In Colab\"/></a>"
      ]
    },
    {
      "cell_type": "code",
      "execution_count": null,
      "metadata": {
        "id": "0L9uVuiEoyjI"
      },
      "outputs": [],
      "source": [
        "import pandas as pd\n",
        "import openpyxl"
      ]
    },
    {
      "cell_type": "code",
      "source": [
        "from google.colab import drive\n",
        "drive.mount('/content/drive')"
      ],
      "metadata": {
        "id": "7m71MOMKo2A_"
      },
      "execution_count": null,
      "outputs": []
    },
    {
      "cell_type": "code",
      "source": [
        "file = '/content/b_01.01.xlsx'\n",
        "\n",
        "# Load the Excel file using openpyxl engine\n",
        "df = pd.read_excel(file, engine='openpyxl')\n",
        "\n",
        "# Define the output CSV path\n",
        "output_csv = file.replace('.xlsx', '.csv')\n",
        "\n",
        "# Save to CSV\n",
        "df.to_csv(output_csv, index=False)\n",
        "\n",
        "print(f\"CSV file saved to: {output_csv}\")"
      ],
      "metadata": {
        "id": "quDQfrtxo2cw"
      },
      "execution_count": null,
      "outputs": []
    }
  ]
}